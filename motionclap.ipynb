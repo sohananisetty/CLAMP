{
 "cells": [
  {
   "cell_type": "code",
   "execution_count": 1,
   "id": "4ae449e2-c2af-400a-bdfa-df917392c29c",
   "metadata": {},
   "outputs": [
    {
     "name": "stdout",
     "output_type": "stream",
     "text": [
      "Using device: cuda\n",
      "\n",
      "NVIDIA GeForce RTX 2080 Ti\n",
      "Memory Usage:\n",
      "Allocated: 0.0 GB\n",
      "Cached:    0.0 GB\n"
     ]
    }
   ],
   "source": [
    "# setting device on GPU if available, else CPU\n",
    "import torch\n",
    "device = torch.device('cuda' if torch.cuda.is_available() else 'cpu')\n",
    "print('Using device:', device)\n",
    "print()\n",
    "\n",
    "#Additional Info when using cuda\n",
    "if device.type == 'cuda':\n",
    "    print(torch.cuda.get_device_name(0))\n",
    "    print('Memory Usage:')\n",
    "    print('Allocated:', round(torch.cuda.memory_allocated(0)/1024**3,1), 'GB')\n",
    "    print('Cached:   ', round(torch.cuda.memory_reserved(0)/1024**3,1), 'GB')\n"
   ]
  },
  {
   "cell_type": "code",
   "execution_count": 2,
   "id": "665611bb-04ea-496f-8b45-0e07a6ac00a6",
   "metadata": {},
   "outputs": [],
   "source": [
    "%load_ext autoreload\n",
    "%autoreload 2\n",
    "%matplotlib inline"
   ]
  },
  {
   "cell_type": "code",
   "execution_count": 3,
   "id": "ed3dac2f-e445-4137-a86f-71eae8375152",
   "metadata": {},
   "outputs": [],
   "source": [
    "import torch\n",
    "import numpy as np\n",
    "import os\n",
    "import torch.nn as nn"
   ]
  },
  {
   "cell_type": "code",
   "execution_count": 4,
   "id": "4fd66f6a-cbdd-49cb-b708-f8c740b915fc",
   "metadata": {},
   "outputs": [
    {
     "name": "stderr",
     "output_type": "stream",
     "text": [
      "/srv/hays-lab/flash5/sanisetty3/miniconda3/envs/tgm3d/lib/python3.9/site-packages/tqdm/auto.py:21: TqdmWarning: IProgress not found. Please update jupyter and ipywidgets. See https://ipywidgets.readthedocs.io/en/stable/user_install.html\n",
      "  from .autonotebook import tqdm as notebook_tqdm\n"
     ]
    }
   ],
   "source": [
    "from modeling_clamp import ClampModel\n",
    "from configuration_clamp import ClampConfig\n",
    "\n",
    "from feature_extraction_clamp import ClampFeatureExtractor\n",
    "from transformers import RobertaTokenizer\n",
    "from processing_clamp import ClampProcessor\n",
    "from datasets import load_dataset, Audio\n",
    "\n",
    "from clamp_dataset import load_dataset, simple_collate\n",
    "from functools import partial"
   ]
  },
  {
   "cell_type": "code",
   "execution_count": 5,
   "id": "dc76ab1e-3cd0-497b-a2df-bbff5903bed3",
   "metadata": {},
   "outputs": [],
   "source": [
    "# from modeling_clap import ClapModel\n",
    "# from transformers import AutoProcessor"
   ]
  },
  {
   "cell_type": "code",
   "execution_count": null,
   "id": "449597b1-0f15-4539-86e1-ba19e68b6895",
   "metadata": {},
   "outputs": [],
   "source": []
  },
  {
   "cell_type": "code",
   "execution_count": 6,
   "id": "082a3fbd-c11a-49d3-9fb7-9ed8bb03ffb8",
   "metadata": {},
   "outputs": [],
   "source": [
    "def findAllFile(base):\n",
    "    file_path = []\n",
    "    for root, ds, fs in os.walk(base, followlinks=True):\n",
    "        for f in fs:\n",
    "            fullname = os.path.join(root, f)\n",
    "            file_path.append(fullname)\n",
    "    return file_path\n",
    "\n"
   ]
  },
  {
   "cell_type": "code",
   "execution_count": null,
   "id": "bcaaedeb-29fb-4995-b203-598e7a90c74b",
   "metadata": {},
   "outputs": [],
   "source": [
    "from training_config import cfg, get_cfg_defaults\n"
   ]
  },
  {
   "cell_type": "code",
   "execution_count": 7,
   "id": "8151379a-553e-4cab-ad1c-53eac8e2c60a",
   "metadata": {},
   "outputs": [],
   "source": [
    "import numpy as np\n",
    "import seaborn as sns\n",
    "import matplotlib.pylab as plt\n",
    "import librosa\n"
   ]
  },
  {
   "cell_type": "code",
   "execution_count": null,
   "id": "be588415-abc1-403e-913c-b1d78ed2d4c2",
   "metadata": {},
   "outputs": [],
   "source": []
  },
  {
   "cell_type": "code",
   "execution_count": 9,
   "id": "4e7c22e6-9410-404f-a973-b7eb9a94bc96",
   "metadata": {},
   "outputs": [
    {
     "name": "stdout",
     "output_type": "stream",
     "text": [
      "loading config from: /srv/hays-lab/scratch/sanisetty3/music_motion/clamp/checkpoints/clamp_enc/clamp_enc.yaml\n"
     ]
    }
   ],
   "source": [
    "nme = \"clamp_enc\"\n",
    "path = f\"/srv/hays-lab/scratch/sanisetty3/music_motion/clamp/checkpoints/{nme}/{nme}.yaml\"\n",
    "cfg = get_cfg_defaults()\n",
    "print(\"loading config from:\", path)\n",
    "cfg.merge_from_file(path)"
   ]
  },
  {
   "cell_type": "code",
   "execution_count": 9,
   "id": "b9fb6167-486c-4056-8df6-faabf1565ac8",
   "metadata": {},
   "outputs": [],
   "source": [
    "clamp_config = ClampConfig.from_pretrained(\"/srv/hays-lab/scratch/sanisetty3/music_motion/clamp/clamp\")\n"
   ]
  },
  {
   "cell_type": "code",
   "execution_count": 10,
   "id": "10103338-ae92-4442-bd7d-cc64d8bdc6c2",
   "metadata": {},
   "outputs": [
    {
     "name": "stderr",
     "output_type": "stream",
     "text": [
      "Some weights of ClampModel were not initialized from the model checkpoint at /srv/hays-lab/scratch/sanisetty3/music_motion/clamp/clamp and are newly initialized: ['motion_projection.project_in.weight', 'motion_projection.project_in.bias']\n",
      "You should probably TRAIN this model on a down-stream task to be able to use it for predictions and inference.\n"
     ]
    }
   ],
   "source": [
    "clamp_model = ClampModel.from_pretrained(\"/srv/hays-lab/scratch/sanisetty3/music_motion/clamp/clamp\").to(device)\n"
   ]
  },
  {
   "cell_type": "code",
   "execution_count": 11,
   "id": "719767f6-09cd-42af-b38b-14f29db1df4b",
   "metadata": {},
   "outputs": [
    {
     "data": {
      "text/plain": [
       "<All keys matched successfully>"
      ]
     },
     "execution_count": 11,
     "metadata": {},
     "output_type": "execute_result"
    }
   ],
   "source": [
    "pp = torch.load(\"/srv/hays-lab/scratch/sanisetty3/music_motion/clamp/checkpoints/clamp_qnt/checkpoints/clamp_motion.30000.pt\")\n",
    "clamp_model.load_state_dict(pp[\"model\"])"
   ]
  },
  {
   "cell_type": "code",
   "execution_count": 33,
   "id": "446c987a-0ec2-4f24-8bcf-bbe5141dd103",
   "metadata": {},
   "outputs": [],
   "source": [
    "pp = torch.load(\"/srv/hays-lab/scratch/sanisetty3/music_motion/clamp/checkpoints/clamp_qnt/clamp_motion.pt\")\n"
   ]
  },
  {
   "cell_type": "code",
   "execution_count": 20,
   "id": "8bb73304-fce4-4617-842f-19644aeb6670",
   "metadata": {},
   "outputs": [],
   "source": [
    "\n",
    "def convert_audio(wav: torch.Tensor, sr: int, target_sr: int, target_channels: int):\n",
    "    assert wav.dim() >= 2, \"Audio tensor must have at least 2 dimensions\"\n",
    "    assert wav.shape[-2] in [1, 2], \"Audio must be mono or stereo.\"\n",
    "    *shape, channels, length = wav.shape\n",
    "    if target_channels == 1:\n",
    "        wav = wav.mean(-2, keepdim=True)\n",
    "    elif target_channels == 2:\n",
    "        wav = wav.expand(*shape, target_channels, length)\n",
    "    elif channels == 1:\n",
    "        wav = wav.expand(target_channels, -1)\n",
    "    else:\n",
    "        raise RuntimeError(\n",
    "            f\"Impossible to convert from {channels} to {target_channels}\"\n",
    "        )\n",
    "    wav = torchaudio.transforms.Resample(sr, target_sr)(wav)\n",
    "    return wav"
   ]
  },
  {
   "cell_type": "code",
   "execution_count": 21,
   "id": "1010dab3-5268-4a11-925f-2a205a7ada1a",
   "metadata": {},
   "outputs": [],
   "source": [
    "import librosa\n",
    "import torchaudio"
   ]
  },
  {
   "cell_type": "code",
   "execution_count": 24,
   "id": "3fdf094d-13cd-4450-8459-6e2d366c00c3",
   "metadata": {},
   "outputs": [],
   "source": [
    "wav, sr = torchaudio.load(\"/srv/hays-lab/scratch/sanisetty3/motionx/audio/beat/1_wayne_0_1_1.wav\")\n",
    "audio_data = convert_audio(wav, sr, 24000, 1)\n",
    "\n"
   ]
  },
  {
   "cell_type": "code",
   "execution_count": 29,
   "id": "11fee7ce-c1b0-4d77-adcc-1863c07f4f88",
   "metadata": {},
   "outputs": [
    {
     "data": {
      "text/plain": [
       "array([ 9.1423317e-08, -2.2472341e-07,  9.7488737e-08, ...,\n",
       "        3.1943269e-05,  5.9540373e-05,  4.5532212e-05], dtype=float32)"
      ]
     },
     "execution_count": 29,
     "metadata": {},
     "output_type": "execute_result"
    }
   ],
   "source": [
    "np.asarray(audio_data)"
   ]
  },
  {
   "cell_type": "code",
   "execution_count": 26,
   "id": "47b68b40-8e7b-4f24-8d63-1c23ac39e647",
   "metadata": {},
   "outputs": [],
   "source": [
    "audio_data2, _ = librosa.load(\n",
    "    \"/srv/hays-lab/scratch/sanisetty3/motionx/audio/beat/1_wayne_0_1_1.wav\",\n",
    "    sr=24000,\n",
    ")"
   ]
  },
  {
   "cell_type": "code",
   "execution_count": 28,
   "id": "49fb396d-dff3-427b-91a7-87fd5f6965e9",
   "metadata": {},
   "outputs": [
    {
     "data": {
      "text/plain": [
       "(1656000,)"
      ]
     },
     "execution_count": 28,
     "metadata": {},
     "output_type": "execute_result"
    }
   ],
   "source": [
    "audio_data2.shape"
   ]
  },
  {
   "cell_type": "code",
   "execution_count": 30,
   "id": "aa8a710b-f299-4dd3-8f8d-f27e6727fd51",
   "metadata": {},
   "outputs": [
    {
     "name": "stderr",
     "output_type": "stream",
     "text": [
      "It is strongly recommended to pass the `sampling_rate` argument to this function. Failing to do so can result in silent errors that might be hard to debug.\n",
      "/srv/hays-lab/flash5/sanisetty3/miniconda3/envs/tgm3d/lib/python3.9/site-packages/transformers/audio_utils.py:630: FutureWarning: The function `fram_wave` is deprecated and will be removed in version 4.31.0 of Transformers\n",
      "  warnings.warn(\n",
      "/srv/hays-lab/flash5/sanisetty3/miniconda3/envs/tgm3d/lib/python3.9/site-packages/transformers/audio_utils.py:698: FutureWarning: The function `stft` is deprecated and will be removed in version 4.31.0 of Transformers\n",
      "  warnings.warn(\n"
     ]
    },
    {
     "data": {
      "text/plain": [
       "{'input_features': array([[[-15.394947  ,  -0.5703163 ,   3.5401433 , ..., -38.2861    ,\n",
       "         -37.918972  , -37.939922  ],\n",
       "        [-16.963102  ,   0.87034565,   9.158687  , ..., -43.59886   ,\n",
       "         -46.195023  , -47.70651   ],\n",
       "        [-21.283278  , -15.064988  ,   4.8064947 , ..., -44.900204  ,\n",
       "         -40.166466  , -42.062     ],\n",
       "        ...,\n",
       "        [-39.50362   , -33.66943   , -16.775053  , ..., -26.694666  ,\n",
       "         -32.130165  , -39.111378  ],\n",
       "        [-44.719772  , -33.449722  , -16.37218   , ..., -29.7046    ,\n",
       "         -35.740845  , -44.613018  ],\n",
       "        [ -2.8099854 ,  -1.5159984 ,   1.72572   , ..., -40.363914  ,\n",
       "         -42.63393   , -46.923767  ]]], dtype=float32), 'is_longer': [[True]]}"
      ]
     },
     "execution_count": 30,
     "metadata": {},
     "output_type": "execute_result"
    }
   ],
   "source": [
    "clamp_feature_extractor(raw_speech=audio_data)"
   ]
  },
  {
   "cell_type": "code",
   "execution_count": null,
   "id": "cec7623b-439c-4e83-aeb8-fc06037b6413",
   "metadata": {},
   "outputs": [],
   "source": []
  },
  {
   "cell_type": "code",
   "execution_count": 37,
   "id": "ea148ed9-7111-4712-bb76-e208e834536e",
   "metadata": {
    "scrolled": true
   },
   "outputs": [
    {
     "name": "stderr",
     "output_type": "stream",
     "text": [
      "/srv/hays-lab/flash5/sanisetty3/miniconda3/envs/tgm3d/lib/python3.9/site-packages/transformers/audio_utils.py:591: FutureWarning: The function `get_mel_filter_banks` is deprecated and will be removed in version 4.31.0 of Transformers\n",
      "  warnings.warn(\n"
     ]
    }
   ],
   "source": [
    "clamp_feature_extractor = ClampFeatureExtractor.from_pretrained(\"/srv/hays-lab/scratch/sanisetty3/music_motion/clamp/clamp/\")\n",
    "tokenizer = RobertaTokenizer.from_pretrained(\"/srv/hays-lab/scratch/sanisetty3/music_motion/clamp/clamp\")\n",
    "clamp_processor = ClampProcessor(clamp_feature_extractor , tokenizer )\n"
   ]
  },
  {
   "cell_type": "code",
   "execution_count": null,
   "id": "87113efa-2469-42c1-bc6e-4f33ab2bfc23",
   "metadata": {},
   "outputs": [],
   "source": []
  },
  {
   "cell_type": "code",
   "execution_count": 16,
   "id": "25582b0e-91cd-46bb-8b24-b62ea958b478",
   "metadata": {},
   "outputs": [
    {
     "name": "stdout",
     "output_type": "stream",
     "text": [
      "Total number of motions beat: 1458 and texts 1458\n"
     ]
    }
   ],
   "source": [
    "dset , sampler, w = load_dataset(\"/srv/hays-lab/scratch/sanisetty3/motionx\" , dataset_names=['beat'] , split = \"train\")"
   ]
  },
  {
   "cell_type": "code",
   "execution_count": null,
   "id": "20857e69-0b3e-4836-b2fe-402bb866b7d1",
   "metadata": {},
   "outputs": [],
   "source": []
  },
  {
   "cell_type": "code",
   "execution_count": null,
   "id": "0c0fa80f-0247-4e15-87d1-f4ad8e638746",
   "metadata": {},
   "outputs": [],
   "source": []
  },
  {
   "cell_type": "code",
   "execution_count": 52,
   "id": "ee787b0d-03d7-47ec-994a-2307b1e14c15",
   "metadata": {},
   "outputs": [],
   "source": [
    "train_loader = torch.utils.data.DataLoader(\n",
    "        dset,\n",
    "        10,\n",
    "        sampler=sampler,\n",
    "        # shuffle=True,\n",
    "        # num_workers=num_workers,\n",
    "        collate_fn=partial(simple_collate , clamp_processor = clamp_processor),\n",
    "        drop_last=True,\n",
    "    )"
   ]
  },
  {
   "cell_type": "code",
   "execution_count": 53,
   "id": "40c4a027-7d07-4414-b961-bce838aa9e68",
   "metadata": {},
   "outputs": [
    {
     "name": "stderr",
     "output_type": "stream",
     "text": [
      "It is strongly recommended to pass the `sampling_rate` argument to this function. Failing to do so can result in silent errors that might be hard to debug.\n"
     ]
    },
    {
     "name": "stdout",
     "output_type": "stream",
     "text": [
      "(29201972,)\n",
      "(18208, 623)\n"
     ]
    }
   ],
   "source": [
    "for batch in train_loader:\n",
    "    break"
   ]
  },
  {
   "cell_type": "code",
   "execution_count": null,
   "id": "ddcea72e-e83a-4a83-940b-68af4d165c79",
   "metadata": {},
   "outputs": [],
   "source": [
    "batch[\"names\"]"
   ]
  },
  {
   "cell_type": "code",
   "execution_count": null,
   "id": "3f9ef153-faac-4bc4-86cf-3597659f6743",
   "metadata": {
    "scrolled": true
   },
   "outputs": [],
   "source": [
    "batch[\"texts\"]"
   ]
  },
  {
   "cell_type": "code",
   "execution_count": 105,
   "id": "0296dc22-a87d-439a-9b8a-b622d1028839",
   "metadata": {},
   "outputs": [],
   "source": [
    "motion = np.load('/srv/hays-lab/scratch/sanisetty3/motionx/motion_data/new_joint_vecs/choreomaster/0071.npy')"
   ]
  },
  {
   "cell_type": "code",
   "execution_count": 156,
   "id": "8c6432a7-1691-41a2-881f-507ed1523197",
   "metadata": {},
   "outputs": [
    {
     "data": {
      "text/plain": [
       "5267"
      ]
     },
     "execution_count": 156,
     "metadata": {},
     "output_type": "execute_result"
    }
   ],
   "source": [
    "motion.shape[0]"
   ]
  },
  {
   "cell_type": "code",
   "execution_count": 109,
   "id": "153c56be-c22a-4e51-a73c-a712aa216f2d",
   "metadata": {},
   "outputs": [
    {
     "data": {
      "text/plain": [
       "175.56666666666666"
      ]
     },
     "execution_count": 109,
     "metadata": {},
     "output_type": "execute_result"
    }
   ],
   "source": [
    "motion.shape[0]/30"
   ]
  },
  {
   "cell_type": "code",
   "execution_count": 107,
   "id": "dc8b593e-907e-464b-aad5-7beec9706844",
   "metadata": {},
   "outputs": [],
   "source": [
    "audio_data, _ = librosa.load('/srv/hays-lab/scratch/sanisetty3/motionx/audio/choreomaster/0071.wav', sr=48000)"
   ]
  },
  {
   "cell_type": "code",
   "execution_count": 108,
   "id": "bf5d7da9-3ed2-43b0-983b-924bc843e724",
   "metadata": {},
   "outputs": [
    {
     "data": {
      "text/plain": [
       "174.44002083333334"
      ]
     },
     "execution_count": 108,
     "metadata": {},
     "output_type": "execute_result"
    }
   ],
   "source": [
    "audio_data.shape[0]/48000"
   ]
  },
  {
   "cell_type": "code",
   "execution_count": 91,
   "id": "80387294-d9d9-42b7-acdb-ddecbf88f79d",
   "metadata": {},
   "outputs": [
    {
     "data": {
      "text/plain": [
       "480000"
      ]
     },
     "execution_count": 91,
     "metadata": {},
     "output_type": "execute_result"
    }
   ],
   "source": [
    "clamp_feature_extractor.nb_max_samples"
   ]
  },
  {
   "cell_type": "code",
   "execution_count": 113,
   "id": "0635b0e1-924e-4734-9670-09c348f5d85b",
   "metadata": {},
   "outputs": [
    {
     "name": "stdout",
     "output_type": "stream",
     "text": [
      "(1, 1001, 64)\n"
     ]
    }
   ],
   "source": [
    "out = clamp_feature_extractor(raw_speech=audio_data , raw_motion=motion , truncation = \"rand_trunc\" , padding = \"pad\" , sampling_rate = 48000)"
   ]
  },
  {
   "cell_type": "code",
   "execution_count": 111,
   "id": "81b4b222-97b6-4781-b782-4486429674cd",
   "metadata": {},
   "outputs": [
    {
     "data": {
      "text/plain": [
       "(1, 300, 263)"
      ]
     },
     "execution_count": 111,
     "metadata": {},
     "output_type": "execute_result"
    }
   ],
   "source": [
    "out[\"input_motion_features\"].shape"
   ]
  },
  {
   "cell_type": "code",
   "execution_count": 112,
   "id": "6b0df7b2-b084-4d64-bc96-cdd56f12479f",
   "metadata": {},
   "outputs": [
    {
     "data": {
      "text/plain": [
       "(1, 1001, 64)"
      ]
     },
     "execution_count": 112,
     "metadata": {},
     "output_type": "execute_result"
    }
   ],
   "source": [
    "out[\"input_features\"].shape"
   ]
  },
  {
   "cell_type": "code",
   "execution_count": null,
   "id": "418252bc-a07d-4bfa-aad9-a07b55511e93",
   "metadata": {},
   "outputs": [],
   "source": []
  },
  {
   "cell_type": "code",
   "execution_count": 43,
   "id": "f73df5fb-ecae-4902-899a-12a98be63fe1",
   "metadata": {},
   "outputs": [
    {
     "name": "stderr",
     "output_type": "stream",
     "text": [
      "[autoreload of clamp_dataset failed: Traceback (most recent call last):\n",
      "  File \"/srv/hays-lab/flash5/sanisetty3/miniconda3/envs/tgm3d/lib/python3.9/site-packages/IPython/extensions/autoreload.py\", line 276, in check\n",
      "    superreload(m, reload, self.old_objects)\n",
      "  File \"/srv/hays-lab/flash5/sanisetty3/miniconda3/envs/tgm3d/lib/python3.9/site-packages/IPython/extensions/autoreload.py\", line 475, in superreload\n",
      "    module = reload(module)\n",
      "  File \"/srv/hays-lab/flash5/sanisetty3/miniconda3/envs/tgm3d/lib/python3.9/importlib/__init__.py\", line 169, in reload\n",
      "    _bootstrap._exec(spec, module)\n",
      "  File \"<frozen importlib._bootstrap>\", line 613, in _exec\n",
      "  File \"<frozen importlib._bootstrap_external>\", line 846, in exec_module\n",
      "  File \"<frozen importlib._bootstrap_external>\", line 983, in get_code\n",
      "  File \"<frozen importlib._bootstrap_external>\", line 913, in source_to_code\n",
      "  File \"<frozen importlib._bootstrap>\", line 228, in _call_with_frames_removed\n",
      "  File \"/coc/scratch/sanisetty3/music_motion/clamp/clamp_dataset.py\", line 175\n",
      "    def mask_augment(self, motion, perc_n=0.0, perc_d=0.0):\n",
      "    ^\n",
      "IndentationError: expected an indented block\n",
      "]\n"
     ]
    }
   ],
   "source": [
    "for k in batch.keys():\n",
    "    try:\n",
    "        batch[k] = batch[k].to(device)\n",
    "    except:\n",
    "        continue"
   ]
  },
  {
   "cell_type": "code",
   "execution_count": 44,
   "id": "c64666d2-2b08-4509-ac5c-4f7d4fc55121",
   "metadata": {},
   "outputs": [],
   "source": [
    "out = clamp_model(**batch , return_loss = True)"
   ]
  },
  {
   "cell_type": "markdown",
   "id": "3729d139-0d89-4b93-83cf-3500dabf9daa",
   "metadata": {},
   "source": [
    "## TEST"
   ]
  },
  {
   "cell_type": "code",
   "execution_count": 19,
   "id": "06a4c879-169d-480c-af0b-ca1fc36e557d",
   "metadata": {},
   "outputs": [
    {
     "data": {
      "image/png": "[encoded data removed]",
      "text/plain": [
       "<Figure size 640x480 with 2 Axes>"
      ]
     },
     "metadata": {},
     "output_type": "display_data"
    }
   ],
   "source": [
    "logits_per_text_vs_motion = out.logits_per_text_vs_motion \n",
    "probs = logits_per_text_vs_motion.softmax(dim=-1)\n",
    "ax = sns.heatmap(np.array(probs.detach().cpu()), linewidth=0.5)\n",
    "plt.show()"
   ]
  },
  {
   "cell_type": "code",
   "execution_count": null,
   "id": "d3d5b96f-85b1-4f81-8607-b189bcdbdf7d",
   "metadata": {},
   "outputs": [],
   "source": []
  },
  {
   "cell_type": "code",
   "execution_count": 20,
   "id": "58d61fad-3aad-406b-b7ec-9ffc66fc0666",
   "metadata": {},
   "outputs": [
    {
     "data": {
      "image/png": "[encoded data removed]",
      "text/plain": [
       "<Figure size 640x480 with 2 Axes>"
      ]
     },
     "metadata": {},
     "output_type": "display_data"
    }
   ],
   "source": [
    "logits_per_motion_vs_text = out.logits_per_motion_vs_text\n",
    "probs2 = logits_per_motion_vs_text.softmax(dim=-1)\n",
    "ax = sns.heatmap(np.array(probs2.detach().cpu()), linewidth=0.5)\n",
    "plt.show()"
   ]
  },
  {
   "cell_type": "markdown",
   "id": "9855d809-ae58-4b5f-978d-1bb284838e66",
   "metadata": {},
   "source": [
    "## TRAIN"
   ]
  },
  {
   "cell_type": "code",
   "execution_count": 32,
   "id": "f9692c2f-8edd-4ab9-bc40-7704ed60bfa3",
   "metadata": {},
   "outputs": [
    {
     "data": {
      "image/png": "[encoded data removed]",
      "text/plain": [
       "<Figure size 640x480 with 2 Axes>"
      ]
     },
     "metadata": {},
     "output_type": "display_data"
    }
   ],
   "source": [
    "logits_per_text_vs_motion = out.logits_per_text_vs_motion \n",
    "probs = logits_per_text_vs_motion.softmax(dim=-1)\n",
    "ax = sns.heatmap(np.array(probs.detach().cpu()), linewidth=0.5)\n",
    "plt.show()"
   ]
  },
  {
   "cell_type": "code",
   "execution_count": 33,
   "id": "1055b719-e1f4-4587-bc8d-4d70cfa18ba7",
   "metadata": {},
   "outputs": [
    {
     "data": {
      "text/plain": [
       "tensor([[2.7008e-01, 2.1294e-01, 1.6599e-01, 1.9656e-02, 9.1111e-03, 2.4270e-02,\n",
       "         1.0366e-01, 1.8259e-01, 5.8557e-03, 5.8450e-03],\n",
       "        [2.8412e-01, 3.0181e-01, 2.3923e-01, 1.2673e-02, 8.9897e-03, 1.0776e-02,\n",
       "         3.1088e-02, 1.1022e-01, 6.5181e-04, 4.4217e-04],\n",
       "        [2.2720e-02, 1.0632e-02, 2.6337e-01, 1.4030e-01, 1.7782e-01, 3.1885e-01,\n",
       "         4.6794e-02, 1.8789e-02, 4.7778e-04, 2.5179e-04],\n",
       "        [1.1662e-02, 8.6468e-03, 3.8034e-02, 8.1036e-01, 7.2752e-02, 3.3828e-02,\n",
       "         1.0902e-02, 1.3484e-02, 1.6856e-04, 1.6177e-04],\n",
       "        [3.7603e-03, 3.3586e-02, 9.0984e-02, 3.7642e-01, 3.6588e-01, 1.0186e-01,\n",
       "         3.3907e-03, 2.3532e-02, 1.4231e-04, 4.4999e-04],\n",
       "        [1.7412e-02, 1.7750e-02, 1.3326e-01, 2.5547e-02, 7.3399e-02, 7.1044e-01,\n",
       "         4.7794e-03, 1.5985e-02, 9.3038e-04, 4.9409e-04],\n",
       "        [2.0661e-01, 5.5253e-02, 3.0442e-02, 5.2119e-02, 2.6663e-02, 1.4191e-02,\n",
       "         1.8071e-01, 4.3204e-01, 5.2911e-04, 1.4418e-03],\n",
       "        [5.2399e-01, 1.4469e-01, 1.2159e-03, 9.3645e-04, 6.2686e-04, 1.4101e-03,\n",
       "         4.3491e-02, 2.8307e-01, 3.2141e-04, 2.5817e-04],\n",
       "        [1.9116e-05, 4.6132e-05, 1.4665e-04, 1.4841e-04, 3.1242e-05, 7.2064e-05,\n",
       "         6.0429e-05, 4.0187e-05, 9.7239e-01, 2.7050e-02],\n",
       "        [1.8893e-04, 2.3151e-04, 5.0569e-05, 1.1439e-04, 6.3565e-05, 1.0775e-04,\n",
       "         1.1006e-04, 4.9931e-05, 1.4183e-01, 8.5725e-01]], device='cuda:0',\n",
       "       grad_fn=<SoftmaxBackward0>)"
      ]
     },
     "execution_count": 33,
     "metadata": {},
     "output_type": "execute_result"
    }
   ],
   "source": [
    "probs"
   ]
  },
  {
   "cell_type": "code",
   "execution_count": 34,
   "id": "a3e73de7-12f1-43f9-86fa-82ec4d8e2df8",
   "metadata": {},
   "outputs": [
    {
     "data": {
      "image/png": "[encoded data removed]",
      "text/plain": [
       "<Figure size 640x480 with 2 Axes>"
      ]
     },
     "metadata": {},
     "output_type": "display_data"
    }
   ],
   "source": [
    "logits_per_motion_vs_text = out.logits_per_motion_vs_text\n",
    "probs2 = logits_per_motion_vs_text.softmax(dim=-1)\n",
    "ax = sns.heatmap(np.array(probs2.detach().cpu()), linewidth=0.5)\n",
    "plt.show()"
   ]
  },
  {
   "cell_type": "code",
   "execution_count": null,
   "id": "3ba1fe4d-5633-4473-b2da-6333f2cd2bbd",
   "metadata": {},
   "outputs": [],
   "source": []
  },
  {
   "cell_type": "code",
   "execution_count": 38,
   "id": "e8eabfd4-256f-4529-895d-32c2602b2971",
   "metadata": {},
   "outputs": [
    {
     "data": {
      "text/plain": [
       "Embedding(1024, 512)"
      ]
     },
     "execution_count": 38,
     "metadata": {},
     "output_type": "execute_result"
    }
   ],
   "source": [
    "clamp_model.motion_model.codebook"
   ]
  },
  {
   "cell_type": "code",
   "execution_count": 172,
   "id": "ec3e211c-93fb-4554-b203-f5b6e6752cce",
   "metadata": {},
   "outputs": [],
   "source": [
    "n =int( sum(batch[\"motion_mask\"][0]))"
   ]
  },
  {
   "cell_type": "code",
   "execution_count": 15,
   "id": "684793fc-6827-4549-8b28-d276a102f9e2",
   "metadata": {},
   "outputs": [],
   "source": [
    "motion_outputs = clamp_model.motion_model(\n",
    "                input_features=batch[\"input_motion_features\"],\n",
    "                motion_mask=batch[\"motion_mask\"],\n",
    "                return_dict=True,\n",
    "            )"
   ]
  },
  {
   "cell_type": "code",
   "execution_count": 19,
   "id": "fb519607-ad7f-4d87-aa26-4eb8f6696bd3",
   "metadata": {},
   "outputs": [
    {
     "data": {
      "text/plain": [
       "torch.Size([2, 45, 512])"
      ]
     },
     "execution_count": 19,
     "metadata": {},
     "output_type": "execute_result"
    }
   ],
   "source": [
    "motion_outputs.motion_quantized.shape"
   ]
  },
  {
   "cell_type": "code",
   "execution_count": 17,
   "id": "43c67e61-d7dc-47c2-9ad8-d34dba664c15",
   "metadata": {},
   "outputs": [
    {
     "data": {
      "text/plain": [
       "torch.Size([2, 512])"
      ]
     },
     "execution_count": 17,
     "metadata": {},
     "output_type": "execute_result"
    }
   ],
   "source": [
    "motion_outputs.pooler_output.shape"
   ]
  },
  {
   "cell_type": "code",
   "execution_count": null,
   "id": "96dad411-82ee-4e7a-94df-4cd1ef3979f3",
   "metadata": {},
   "outputs": [],
   "source": []
  },
  {
   "cell_type": "code",
   "execution_count": null,
   "id": "44cfec79-71d4-4690-a5b6-f0b912381609",
   "metadata": {},
   "outputs": [],
   "source": []
  },
  {
   "cell_type": "code",
   "execution_count": null,
   "id": "b1ceb865-3bf2-4d5e-9fcc-b30e786015cc",
   "metadata": {},
   "outputs": [],
   "source": [
    "class ResidualAttentionBlock(nn.Module):\n",
    "    def __init__(self, d_model: int, n_head: int, act_layer: Callable = nn.GELU):\n",
    "        super().__init__()\n",
    "\n",
    "        self.attn = nn.MultiheadAttention(d_model, n_head)\n",
    "        self.ln_1 = LayerNorm(d_model)\n",
    "        self.mlp = nn.Sequential(\n",
    "            OrderedDict(\n",
    "                [\n",
    "                    (\"c_fc\", nn.Linear(d_model, d_model * 4)),\n",
    "                    (\"gelu\", act_layer()),\n",
    "                    (\"c_proj\", nn.Linear(d_model * 4, d_model)),\n",
    "                ]\n",
    "            )\n",
    "        )\n",
    "        self.ln_2 = LayerNorm(d_model)\n",
    "\n",
    "    def attention(self, x: torch.Tensor, attn_mask: Optional[torch.Tensor] = None):\n",
    "        return self.attn(x, x, x, need_weights=False, attn_mask=attn_mask)[0]\n",
    "\n",
    "    def forward(self, x: torch.Tensor, attn_mask: Optional[torch.Tensor] = None):\n",
    "        x = x + self.attention(self.ln_1(x), attn_mask=attn_mask)\n",
    "        x = x + self.mlp(self.ln_2(x))\n",
    "        return x\n",
    "\n",
    "\n",
    "class Transformer(nn.Module):\n",
    "    def __init__(\n",
    "        self, width: int, layers: int, heads: int, act_layer: Callable = nn.GELU\n",
    "    ):\n",
    "        super().__init__()\n",
    "        self.width = width\n",
    "        self.layers = layers\n",
    "        self.resblocks = nn.ModuleList(\n",
    "            [\n",
    "                ResidualAttentionBlock(width, heads, act_layer=act_layer)\n",
    "                for _ in range(layers)\n",
    "            ]\n",
    "        )\n",
    "\n",
    "    def forward(self, x: torch.Tensor, attn_mask: Optional[torch.Tensor] = None):\n",
    "        for r in self.resblocks:\n",
    "            x = r(x, attn_mask=attn_mask)\n",
    "        return x\n"
   ]
  },
  {
   "cell_type": "code",
   "execution_count": null,
   "id": "44d4edbe-5441-4e25-b8d9-2004e79075c9",
   "metadata": {},
   "outputs": [],
   "source": []
  },
  {
   "cell_type": "code",
   "execution_count": null,
   "id": "d725b42c-c485-44ab-9b0e-0d6aefa6e59e",
   "metadata": {},
   "outputs": [],
   "source": []
  },
  {
   "cell_type": "code",
   "execution_count": null,
   "id": "9c3a06d6-b447-428f-b51b-b5816eaf68f4",
   "metadata": {},
   "outputs": [],
   "source": []
  },
  {
   "cell_type": "code",
   "execution_count": 178,
   "id": "266c20f5-689e-476a-b077-318eced6566d",
   "metadata": {},
   "outputs": [
    {
     "data": {
      "text/plain": [
       "tensor([[-0.3476, -0.3848, -0.3382,  ...,  1.2374,  1.4674, -2.1366],\n",
       "        [-0.6643, -0.1604, -1.1021,  ...,  0.5524, -1.2188, -2.4285],\n",
       "        [-0.4812, -0.7574, -1.0271,  ..., -0.4936,  1.6141, -2.4648],\n",
       "        ...,\n",
       "        [-0.7409, -0.1642, -0.5005,  ..., -0.7184,  0.2362, -0.9957],\n",
       "        [-1.1092,  0.1609, -1.3755,  ..., -0.2261,  1.0162, -2.4969],\n",
       "        [-1.0156,  0.1001, -1.6934,  ...,  0.4242,  1.1925, -2.5306]],\n",
       "       grad_fn=<SliceBackward0>)"
      ]
     },
     "execution_count": 178,
     "metadata": {},
     "output_type": "execute_result"
    }
   ],
   "source": [
    "motion_outputs.motion_embeds[0][: n//4]"
   ]
  },
  {
   "cell_type": "code",
   "execution_count": 177,
   "id": "e2492e92-33e8-446c-80c0-ecccfd865eee",
   "metadata": {},
   "outputs": [
    {
     "data": {
      "text/plain": [
       "tensor([[ 0.7374,  0.1091, -0.9001,  ...,  0.9471,  0.4839, -1.7853],\n",
       "        [-0.6063, -0.2402, -1.3614,  ..., -1.4479, -0.4712, -2.0911],\n",
       "        [ 0.5954, -0.6793, -0.2143,  ..., -0.7939,  1.1101, -2.4060],\n",
       "        ...,\n",
       "        [ 0.4130, -1.0651,  0.4501,  ..., -0.1769,  0.1579, -1.4100],\n",
       "        [ 0.1780, -0.5427, -0.3067,  ..., -0.3478,  0.5527, -2.9065],\n",
       "        [-0.0870, -0.5428, -0.8138,  ..., -0.3544,  0.1502, -2.6137]])"
      ]
     },
     "execution_count": 177,
     "metadata": {},
     "output_type": "execute_result"
    }
   ],
   "source": [
    "motion_outputs.motion_quantized[0][: n//4]"
   ]
  },
  {
   "cell_type": "markdown",
   "id": "0887b8f5-d47c-45fb-837f-b4c45bf1b377",
   "metadata": {},
   "source": [
    "### OG"
   ]
  },
  {
   "cell_type": "code",
   "execution_count": 129,
   "id": "75e2af18-7eca-45e0-b26f-db18f7a72e94",
   "metadata": {},
   "outputs": [
    {
     "data": {
      "text/plain": [
       "tensor([[-0.4184, -0.4447, -0.3431,  ...,  1.2462,  1.4885, -2.1719],\n",
       "        [-0.4815, -0.2334, -1.2013,  ...,  0.5483, -1.2567, -2.4094],\n",
       "        [-0.3224, -0.8071, -1.0123,  ..., -0.5272,  1.6135, -2.1802],\n",
       "        ...,\n",
       "        [-0.4755, -0.4051, -0.1536,  ..., -1.0224,  0.1503, -1.9890],\n",
       "        [-1.7348,  0.5145, -1.3978,  ...,  0.0789,  0.8598, -2.9776],\n",
       "        [-0.4824, -0.1940, -1.5952,  ...,  0.2725,  0.6000, -2.4318]],\n",
       "       grad_fn=<SelectBackward0>)"
      ]
     },
     "execution_count": 129,
     "metadata": {},
     "output_type": "execute_result"
    }
   ],
   "source": [
    "motion_outputs.motion_embeds[0]"
   ]
  },
  {
   "cell_type": "code",
   "execution_count": 130,
   "id": "5a902cf9-c0b5-4799-94c3-216a06e37815",
   "metadata": {},
   "outputs": [
    {
     "data": {
      "text/plain": [
       "tensor([[ 0.7374,  0.1091, -0.9001,  ...,  0.9471,  0.4839, -1.7853],\n",
       "        [-0.4930, -0.5167, -0.8416,  ..., -0.0847, -0.4262, -1.8722],\n",
       "        [ 0.5954, -0.6793, -0.2143,  ..., -0.7939,  1.1101, -2.4060],\n",
       "        ...,\n",
       "        [ 0.4130, -1.0651,  0.4501,  ..., -0.1769,  0.1579, -1.4100],\n",
       "        [ 0.0607, -0.4803, -0.3824,  ..., -0.3225,  0.4422, -2.5939],\n",
       "        [ 0.6482, -0.8899, -0.6191,  ...,  0.0393,  0.8039, -2.2377]])"
      ]
     },
     "execution_count": 130,
     "metadata": {},
     "output_type": "execute_result"
    }
   ],
   "source": [
    "motion_outputs.motion_quantized[0]"
   ]
  },
  {
   "cell_type": "code",
   "execution_count": null,
   "id": "e903b580-d7fd-4bf0-9a11-bf49646caa9d",
   "metadata": {},
   "outputs": [],
   "source": []
  },
  {
   "cell_type": "code",
   "execution_count": null,
   "id": "e90d4a3b-e9f9-41df-9663-e014d90b55ed",
   "metadata": {},
   "outputs": [],
   "source": []
  },
  {
   "cell_type": "code",
   "execution_count": 38,
   "id": "3aed5cef-61b3-4612-b4e3-09b5947cc2cc",
   "metadata": {},
   "outputs": [
    {
     "name": "stdout",
     "output_type": "stream",
     "text": [
      "moyo mean 380.77647058823527 std 156.56916355329534 max 950 min 162\n",
      "music mean 244.91694725028057 std 112.2322020469831 max 943 min 1\n",
      "EgoBody mean 446.9142857142857 std 117.16863305265865 max 679 min 82\n",
      "fitness mean 213.24708485319618 std 127.85189517845544 max 1993 min 1\n",
      "beat mean 1706.0 std 0.0 max 1706 min 1706\n",
      "aist mean 426.40204211869815 std 893.2803941721178 max 10826 min 11\n",
      "dance mean 221.6851851851852 std 195.8577359806965 max 1496 min 5\n",
      "idea400 mean 206.37420076726343 std 65.0198867817423 max 569 min 1\n",
      "HAA500 mean 58.56643089275473 std 40.42577510598959 max 391 min 4\n",
      "kungfu mean 246.9153031761309 std 120.82275115239747 max 783 min 1\n",
      "perform mean 214.8357894736842 std 109.75524149170757 max 553 min 3\n",
      "GRAB mean 303.31760299625466 std 153.38501490937358 max 1114 min 122\n",
      "humanml mean 211.2161495962601 std 80.59329265648283 max 299 min 4\n",
      "choreomaster mean 4351.944444444444 std 1558.3454713331994 max 8142 min 886\n",
      "game_motion mean 108.68687561214496 std 102.12329450829242 max 2918 min 5\n",
      "animation mean 114.91489361702128 std 61.71962334492772 max 333 min 20\n",
      "humman mean 140.1034946236559 std 96.93571913232802 max 510 min 7\n"
     ]
    }
   ],
   "source": [
    "for i in os.listdir(\"/srv/hays-lab/scratch/sanisetty3/motionx/motion_data/new_joint_vecs\"):\n",
    "    motions = []\n",
    "    for f in findAllFile(f\"/srv/hays-lab/scratch/sanisetty3/motionx/motion_data/new_joint_vecs/{i}\"):\n",
    "        motions.append(np.load(f).shape[0])\n",
    "\n",
    "    print(i , \"mean\" , np.mean(motions) , \"std\", np.std(motions) , \"max\" , max(motions) , \"min\" , min(motions))"
   ]
  },
  {
   "cell_type": "code",
   "execution_count": null,
   "id": "90961a3f-a53d-4013-b2fe-a99fd74c44d7",
   "metadata": {},
   "outputs": [],
   "source": []
  },
  {
   "cell_type": "code",
   "execution_count": null,
   "id": "872a4de9-43db-4a29-8a92-0f92d8b7b33c",
   "metadata": {},
   "outputs": [],
   "source": []
  },
  {
   "cell_type": "code",
   "execution_count": 114,
   "id": "3e2e0a9f-e077-4cf7-b114-09f6fa9a723d",
   "metadata": {},
   "outputs": [],
   "source": [
    "from datasets import load_dataset, Audio\n",
    "\n",
    "from transformers import EncodecModel, AutoProcessor\n"
   ]
  },
  {
   "cell_type": "code",
   "execution_count": 131,
   "id": "17617a66-31d6-489d-bf80-7642130fe643",
   "metadata": {},
   "outputs": [
    {
     "name": "stderr",
     "output_type": "stream",
     "text": [
      "/srv/hays-lab/flash5/sanisetty3/miniconda3/envs/tgm3d/lib/python3.9/site-packages/torch/nn/utils/weight_norm.py:30: UserWarning: torch.nn.utils.weight_norm is deprecated in favor of torch.nn.utils.parametrizations.weight_norm.\n",
      "  warnings.warn(\"torch.nn.utils.weight_norm is deprecated in favor of torch.nn.utils.parametrizations.weight_norm.\")\n",
      "Could not find image processor class in the image processor config or the model config. Loading based on pattern matching with the model's feature extractor configuration.\n"
     ]
    }
   ],
   "source": [
    "model = EncodecModel.from_pretrained(\"facebook/encodec_24khz\" ,  cache_dir=\"/srv/hays-lab/scratch/sanisetty3/huggingface_downloads\").to(device)\n",
    "processor = AutoProcessor.from_pretrained(\"facebook/encodec_24khz\" , cache_dir =\"/srv/hays-lab/scratch/sanisetty3/huggingface_downloads\")"
   ]
  },
  {
   "cell_type": "code",
   "execution_count": null,
   "id": "9e14726f-2496-4c13-9424-0a294ae840de",
   "metadata": {},
   "outputs": [],
   "source": [
    "processor."
   ]
  },
  {
   "cell_type": "code",
   "execution_count": 149,
   "id": "655cc618-2677-4acd-8e99-275934522478",
   "metadata": {},
   "outputs": [
    {
     "name": "stderr",
     "output_type": "stream",
     "text": [
      "Generating train split: 36 examples [00:00, 182.46 examples/s]\n"
     ]
    }
   ],
   "source": [
    "dataset = load_dataset(\"/srv/hays-lab/scratch/sanisetty3/motionx/audio/choreomaster/\").cast_column(\"audio\", Audio(sampling_rate=processor.sampling_rate))"
   ]
  },
  {
   "cell_type": "code",
   "execution_count": null,
   "id": "6cd69780-0201-4ab3-b48a-9c2f929c302f",
   "metadata": {},
   "outputs": [],
   "source": [
    "audio_sample = librispeech_dummy[-1][\"audio\"][\"array\"]\n"
   ]
  },
  {
   "cell_type": "code",
   "execution_count": 138,
   "id": "00239175-8f14-4429-a311-7ecb4aa4438d",
   "metadata": {},
   "outputs": [
    {
     "data": {
      "text/plain": [
       "1724"
      ]
     },
     "execution_count": 138,
     "metadata": {},
     "output_type": "execute_result"
    }
   ],
   "source": [
    "len(dataset[\"train\"])"
   ]
  },
  {
   "cell_type": "code",
   "execution_count": 154,
   "id": "aa87b06d-6b89-477b-85e0-c1b0ff5267f5",
   "metadata": {},
   "outputs": [],
   "source": [
    "inputs = processor(raw_audio=dataset[\"train\"][0][\"audio\"][\"array\"], sampling_rate=processor.sampling_rate, return_tensors=\"pt\")\n"
   ]
  },
  {
   "cell_type": "code",
   "execution_count": 153,
   "id": "0c2fa64a-2096-49ec-8f87-dfc128f2961a",
   "metadata": {},
   "outputs": [
    {
     "data": {
      "text/plain": [
       "{'audio': {'path': '/coc/scratch/sanisetty3/motionx/audio/choreomaster/0071.wav',\n",
       "  'array': array([ 0.23337187,  0.17842412, -0.01593026, ...,  0.        ,\n",
       "          0.        ,  0.        ]),\n",
       "  'sampling_rate': 24000}}"
      ]
     },
     "execution_count": 153,
     "metadata": {},
     "output_type": "execute_result"
    }
   ],
   "source": [
    "dataset[\"train\"][0]"
   ]
  },
  {
   "cell_type": "code",
   "execution_count": 155,
   "id": "12dfcdc0-3572-47d9-a5a9-ae07518e3f4b",
   "metadata": {},
   "outputs": [
    {
     "ename": "OutOfMemoryError",
     "evalue": "CUDA out of memory. Tried to allocate 256.00 MiB. GPU 0 has a total capacty of 10.75 GiB of which 221.19 MiB is free. Including non-PyTorch memory, this process has 10.53 GiB memory in use. Of the allocated memory 9.17 GiB is allocated by PyTorch, and 311.13 MiB is reserved by PyTorch but unallocated. If reserved but unallocated memory is large try setting max_split_size_mb to avoid fragmentation.  See documentation for Memory Management and PYTORCH_CUDA_ALLOC_CONF",
     "output_type": "error",
     "traceback": [
      "\u001b[0;31m---------------------------------------------------------------------------\u001b[0m",
      "\u001b[0;31mOutOfMemoryError\u001b[0m                          Traceback (most recent call last)",
      "Cell \u001b[0;32mIn[155], line 1\u001b[0m\n\u001b[0;32m----> 1\u001b[0m encoder_outputs \u001b[38;5;241m=\u001b[39m \u001b[43mmodel\u001b[49m\u001b[38;5;241;43m.\u001b[39;49m\u001b[43mencode\u001b[49m\u001b[43m(\u001b[49m\u001b[43minputs\u001b[49m\u001b[43m[\u001b[49m\u001b[38;5;124;43m\"\u001b[39;49m\u001b[38;5;124;43minput_values\u001b[39;49m\u001b[38;5;124;43m\"\u001b[39;49m\u001b[43m]\u001b[49m\u001b[38;5;241;43m.\u001b[39;49m\u001b[43mto\u001b[49m\u001b[43m(\u001b[49m\u001b[43mdevice\u001b[49m\u001b[43m)\u001b[49m\u001b[43m,\u001b[49m\u001b[43m \u001b[49m\u001b[43minputs\u001b[49m\u001b[43m[\u001b[49m\u001b[38;5;124;43m\"\u001b[39;49m\u001b[38;5;124;43mpadding_mask\u001b[39;49m\u001b[38;5;124;43m\"\u001b[39;49m\u001b[43m]\u001b[49m\u001b[38;5;241;43m.\u001b[39;49m\u001b[43mto\u001b[49m\u001b[43m(\u001b[49m\u001b[43mdevice\u001b[49m\u001b[43m)\u001b[49m\u001b[43m \u001b[49m\u001b[43m,\u001b[49m\u001b[43m \u001b[49m\u001b[43mbandwidth\u001b[49m\u001b[43m \u001b[49m\u001b[38;5;241;43m=\u001b[39;49m\u001b[43m \u001b[49m\u001b[38;5;241;43m6.0\u001b[39;49m\u001b[43m)\u001b[49m\n",
      "File \u001b[0;32m/srv/hays-lab/flash5/sanisetty3/miniconda3/envs/tgm3d/lib/python3.9/site-packages/transformers/models/encodec/modeling_encodec.py:641\u001b[0m, in \u001b[0;36mEncodecModel.encode\u001b[0;34m(self, input_values, padding_mask, bandwidth, return_dict)\u001b[0m\n\u001b[1;32m    639\u001b[0m mask \u001b[38;5;241m=\u001b[39m padding_mask[\u001b[38;5;241m.\u001b[39m\u001b[38;5;241m.\u001b[39m\u001b[38;5;241m.\u001b[39m, offset : offset \u001b[38;5;241m+\u001b[39m chunk_length]\u001b[38;5;241m.\u001b[39mbool()\n\u001b[1;32m    640\u001b[0m frame \u001b[38;5;241m=\u001b[39m input_values[:, :, offset : offset \u001b[38;5;241m+\u001b[39m chunk_length]\n\u001b[0;32m--> 641\u001b[0m encoded_frame, scale \u001b[38;5;241m=\u001b[39m \u001b[38;5;28;43mself\u001b[39;49m\u001b[38;5;241;43m.\u001b[39;49m\u001b[43m_encode_frame\u001b[49m\u001b[43m(\u001b[49m\u001b[43mframe\u001b[49m\u001b[43m,\u001b[49m\u001b[43m \u001b[49m\u001b[43mbandwidth\u001b[49m\u001b[43m,\u001b[49m\u001b[43m \u001b[49m\u001b[43mmask\u001b[49m\u001b[43m)\u001b[49m\n\u001b[1;32m    642\u001b[0m encoded_frames\u001b[38;5;241m.\u001b[39mappend(encoded_frame)\n\u001b[1;32m    643\u001b[0m scales\u001b[38;5;241m.\u001b[39mappend(scale)\n",
      "File \u001b[0;32m/srv/hays-lab/flash5/sanisetty3/miniconda3/envs/tgm3d/lib/python3.9/site-packages/transformers/models/encodec/modeling_encodec.py:574\u001b[0m, in \u001b[0;36mEncodecModel._encode_frame\u001b[0;34m(self, input_values, bandwidth, padding_mask)\u001b[0m\n\u001b[1;32m    571\u001b[0m     scale \u001b[38;5;241m=\u001b[39m mono\u001b[38;5;241m.\u001b[39mpow(\u001b[38;5;241m2\u001b[39m)\u001b[38;5;241m.\u001b[39mmean(dim\u001b[38;5;241m=\u001b[39m\u001b[38;5;241m-\u001b[39m\u001b[38;5;241m1\u001b[39m, keepdim\u001b[38;5;241m=\u001b[39m\u001b[38;5;28;01mTrue\u001b[39;00m)\u001b[38;5;241m.\u001b[39msqrt() \u001b[38;5;241m+\u001b[39m \u001b[38;5;241m1e-8\u001b[39m\n\u001b[1;32m    572\u001b[0m     input_values \u001b[38;5;241m=\u001b[39m input_values \u001b[38;5;241m/\u001b[39m scale\n\u001b[0;32m--> 574\u001b[0m embeddings \u001b[38;5;241m=\u001b[39m \u001b[38;5;28;43mself\u001b[39;49m\u001b[38;5;241;43m.\u001b[39;49m\u001b[43mencoder\u001b[49m\u001b[43m(\u001b[49m\u001b[43minput_values\u001b[49m\u001b[43m)\u001b[49m\n\u001b[1;32m    575\u001b[0m codes \u001b[38;5;241m=\u001b[39m \u001b[38;5;28mself\u001b[39m\u001b[38;5;241m.\u001b[39mquantizer\u001b[38;5;241m.\u001b[39mencode(embeddings, bandwidth)\n\u001b[1;32m    576\u001b[0m codes \u001b[38;5;241m=\u001b[39m codes\u001b[38;5;241m.\u001b[39mtranspose(\u001b[38;5;241m0\u001b[39m, \u001b[38;5;241m1\u001b[39m)\n",
      "File \u001b[0;32m/srv/hays-lab/flash5/sanisetty3/miniconda3/envs/tgm3d/lib/python3.9/site-packages/torch/nn/modules/module.py:1518\u001b[0m, in \u001b[0;36mModule._wrapped_call_impl\u001b[0;34m(self, *args, **kwargs)\u001b[0m\n\u001b[1;32m   1516\u001b[0m     \u001b[38;5;28;01mreturn\u001b[39;00m \u001b[38;5;28mself\u001b[39m\u001b[38;5;241m.\u001b[39m_compiled_call_impl(\u001b[38;5;241m*\u001b[39margs, \u001b[38;5;241m*\u001b[39m\u001b[38;5;241m*\u001b[39mkwargs)  \u001b[38;5;66;03m# type: ignore[misc]\u001b[39;00m\n\u001b[1;32m   1517\u001b[0m \u001b[38;5;28;01melse\u001b[39;00m:\n\u001b[0;32m-> 1518\u001b[0m     \u001b[38;5;28;01mreturn\u001b[39;00m \u001b[38;5;28;43mself\u001b[39;49m\u001b[38;5;241;43m.\u001b[39;49m\u001b[43m_call_impl\u001b[49m\u001b[43m(\u001b[49m\u001b[38;5;241;43m*\u001b[39;49m\u001b[43margs\u001b[49m\u001b[43m,\u001b[49m\u001b[43m \u001b[49m\u001b[38;5;241;43m*\u001b[39;49m\u001b[38;5;241;43m*\u001b[39;49m\u001b[43mkwargs\u001b[49m\u001b[43m)\u001b[49m\n",
      "File \u001b[0;32m/srv/hays-lab/flash5/sanisetty3/miniconda3/envs/tgm3d/lib/python3.9/site-packages/torch/nn/modules/module.py:1527\u001b[0m, in \u001b[0;36mModule._call_impl\u001b[0;34m(self, *args, **kwargs)\u001b[0m\n\u001b[1;32m   1522\u001b[0m \u001b[38;5;66;03m# If we don't have any hooks, we want to skip the rest of the logic in\u001b[39;00m\n\u001b[1;32m   1523\u001b[0m \u001b[38;5;66;03m# this function, and just call forward.\u001b[39;00m\n\u001b[1;32m   1524\u001b[0m \u001b[38;5;28;01mif\u001b[39;00m \u001b[38;5;129;01mnot\u001b[39;00m (\u001b[38;5;28mself\u001b[39m\u001b[38;5;241m.\u001b[39m_backward_hooks \u001b[38;5;129;01mor\u001b[39;00m \u001b[38;5;28mself\u001b[39m\u001b[38;5;241m.\u001b[39m_backward_pre_hooks \u001b[38;5;129;01mor\u001b[39;00m \u001b[38;5;28mself\u001b[39m\u001b[38;5;241m.\u001b[39m_forward_hooks \u001b[38;5;129;01mor\u001b[39;00m \u001b[38;5;28mself\u001b[39m\u001b[38;5;241m.\u001b[39m_forward_pre_hooks\n\u001b[1;32m   1525\u001b[0m         \u001b[38;5;129;01mor\u001b[39;00m _global_backward_pre_hooks \u001b[38;5;129;01mor\u001b[39;00m _global_backward_hooks\n\u001b[1;32m   1526\u001b[0m         \u001b[38;5;129;01mor\u001b[39;00m _global_forward_hooks \u001b[38;5;129;01mor\u001b[39;00m _global_forward_pre_hooks):\n\u001b[0;32m-> 1527\u001b[0m     \u001b[38;5;28;01mreturn\u001b[39;00m \u001b[43mforward_call\u001b[49m\u001b[43m(\u001b[49m\u001b[38;5;241;43m*\u001b[39;49m\u001b[43margs\u001b[49m\u001b[43m,\u001b[49m\u001b[43m \u001b[49m\u001b[38;5;241;43m*\u001b[39;49m\u001b[38;5;241;43m*\u001b[39;49m\u001b[43mkwargs\u001b[49m\u001b[43m)\u001b[49m\n\u001b[1;32m   1529\u001b[0m \u001b[38;5;28;01mtry\u001b[39;00m:\n\u001b[1;32m   1530\u001b[0m     result \u001b[38;5;241m=\u001b[39m \u001b[38;5;28;01mNone\u001b[39;00m\n",
      "File \u001b[0;32m/srv/hays-lab/flash5/sanisetty3/miniconda3/envs/tgm3d/lib/python3.9/site-packages/transformers/models/encodec/modeling_encodec.py:302\u001b[0m, in \u001b[0;36mEncodecEncoder.forward\u001b[0;34m(self, hidden_states)\u001b[0m\n\u001b[1;32m    300\u001b[0m \u001b[38;5;28;01mdef\u001b[39;00m \u001b[38;5;21mforward\u001b[39m(\u001b[38;5;28mself\u001b[39m, hidden_states):\n\u001b[1;32m    301\u001b[0m     \u001b[38;5;28;01mfor\u001b[39;00m layer \u001b[38;5;129;01min\u001b[39;00m \u001b[38;5;28mself\u001b[39m\u001b[38;5;241m.\u001b[39mlayers:\n\u001b[0;32m--> 302\u001b[0m         hidden_states \u001b[38;5;241m=\u001b[39m \u001b[43mlayer\u001b[49m\u001b[43m(\u001b[49m\u001b[43mhidden_states\u001b[49m\u001b[43m)\u001b[49m\n\u001b[1;32m    303\u001b[0m     \u001b[38;5;28;01mreturn\u001b[39;00m hidden_states\n",
      "File \u001b[0;32m/srv/hays-lab/flash5/sanisetty3/miniconda3/envs/tgm3d/lib/python3.9/site-packages/torch/nn/modules/module.py:1518\u001b[0m, in \u001b[0;36mModule._wrapped_call_impl\u001b[0;34m(self, *args, **kwargs)\u001b[0m\n\u001b[1;32m   1516\u001b[0m     \u001b[38;5;28;01mreturn\u001b[39;00m \u001b[38;5;28mself\u001b[39m\u001b[38;5;241m.\u001b[39m_compiled_call_impl(\u001b[38;5;241m*\u001b[39margs, \u001b[38;5;241m*\u001b[39m\u001b[38;5;241m*\u001b[39mkwargs)  \u001b[38;5;66;03m# type: ignore[misc]\u001b[39;00m\n\u001b[1;32m   1517\u001b[0m \u001b[38;5;28;01melse\u001b[39;00m:\n\u001b[0;32m-> 1518\u001b[0m     \u001b[38;5;28;01mreturn\u001b[39;00m \u001b[38;5;28;43mself\u001b[39;49m\u001b[38;5;241;43m.\u001b[39;49m\u001b[43m_call_impl\u001b[49m\u001b[43m(\u001b[49m\u001b[38;5;241;43m*\u001b[39;49m\u001b[43margs\u001b[49m\u001b[43m,\u001b[49m\u001b[43m \u001b[49m\u001b[38;5;241;43m*\u001b[39;49m\u001b[38;5;241;43m*\u001b[39;49m\u001b[43mkwargs\u001b[49m\u001b[43m)\u001b[49m\n",
      "File \u001b[0;32m/srv/hays-lab/flash5/sanisetty3/miniconda3/envs/tgm3d/lib/python3.9/site-packages/torch/nn/modules/module.py:1527\u001b[0m, in \u001b[0;36mModule._call_impl\u001b[0;34m(self, *args, **kwargs)\u001b[0m\n\u001b[1;32m   1522\u001b[0m \u001b[38;5;66;03m# If we don't have any hooks, we want to skip the rest of the logic in\u001b[39;00m\n\u001b[1;32m   1523\u001b[0m \u001b[38;5;66;03m# this function, and just call forward.\u001b[39;00m\n\u001b[1;32m   1524\u001b[0m \u001b[38;5;28;01mif\u001b[39;00m \u001b[38;5;129;01mnot\u001b[39;00m (\u001b[38;5;28mself\u001b[39m\u001b[38;5;241m.\u001b[39m_backward_hooks \u001b[38;5;129;01mor\u001b[39;00m \u001b[38;5;28mself\u001b[39m\u001b[38;5;241m.\u001b[39m_backward_pre_hooks \u001b[38;5;129;01mor\u001b[39;00m \u001b[38;5;28mself\u001b[39m\u001b[38;5;241m.\u001b[39m_forward_hooks \u001b[38;5;129;01mor\u001b[39;00m \u001b[38;5;28mself\u001b[39m\u001b[38;5;241m.\u001b[39m_forward_pre_hooks\n\u001b[1;32m   1525\u001b[0m         \u001b[38;5;129;01mor\u001b[39;00m _global_backward_pre_hooks \u001b[38;5;129;01mor\u001b[39;00m _global_backward_hooks\n\u001b[1;32m   1526\u001b[0m         \u001b[38;5;129;01mor\u001b[39;00m _global_forward_hooks \u001b[38;5;129;01mor\u001b[39;00m _global_forward_pre_hooks):\n\u001b[0;32m-> 1527\u001b[0m     \u001b[38;5;28;01mreturn\u001b[39;00m \u001b[43mforward_call\u001b[49m\u001b[43m(\u001b[49m\u001b[38;5;241;43m*\u001b[39;49m\u001b[43margs\u001b[49m\u001b[43m,\u001b[49m\u001b[43m \u001b[49m\u001b[38;5;241;43m*\u001b[39;49m\u001b[38;5;241;43m*\u001b[39;49m\u001b[43mkwargs\u001b[49m\u001b[43m)\u001b[49m\n\u001b[1;32m   1529\u001b[0m \u001b[38;5;28;01mtry\u001b[39;00m:\n\u001b[1;32m   1530\u001b[0m     result \u001b[38;5;241m=\u001b[39m \u001b[38;5;28;01mNone\u001b[39;00m\n",
      "File \u001b[0;32m/srv/hays-lab/flash5/sanisetty3/miniconda3/envs/tgm3d/lib/python3.9/site-packages/transformers/models/encodec/modeling_encodec.py:270\u001b[0m, in \u001b[0;36mEncodecResnetBlock.forward\u001b[0;34m(self, hidden_states)\u001b[0m\n\u001b[1;32m    268\u001b[0m residual \u001b[38;5;241m=\u001b[39m hidden_states\n\u001b[1;32m    269\u001b[0m \u001b[38;5;28;01mfor\u001b[39;00m layer \u001b[38;5;129;01min\u001b[39;00m \u001b[38;5;28mself\u001b[39m\u001b[38;5;241m.\u001b[39mblock:\n\u001b[0;32m--> 270\u001b[0m     hidden_states \u001b[38;5;241m=\u001b[39m \u001b[43mlayer\u001b[49m\u001b[43m(\u001b[49m\u001b[43mhidden_states\u001b[49m\u001b[43m)\u001b[49m\n\u001b[1;32m    272\u001b[0m \u001b[38;5;28;01mreturn\u001b[39;00m \u001b[38;5;28mself\u001b[39m\u001b[38;5;241m.\u001b[39mshortcut(residual) \u001b[38;5;241m+\u001b[39m hidden_states\n",
      "File \u001b[0;32m/srv/hays-lab/flash5/sanisetty3/miniconda3/envs/tgm3d/lib/python3.9/site-packages/torch/nn/modules/module.py:1518\u001b[0m, in \u001b[0;36mModule._wrapped_call_impl\u001b[0;34m(self, *args, **kwargs)\u001b[0m\n\u001b[1;32m   1516\u001b[0m     \u001b[38;5;28;01mreturn\u001b[39;00m \u001b[38;5;28mself\u001b[39m\u001b[38;5;241m.\u001b[39m_compiled_call_impl(\u001b[38;5;241m*\u001b[39margs, \u001b[38;5;241m*\u001b[39m\u001b[38;5;241m*\u001b[39mkwargs)  \u001b[38;5;66;03m# type: ignore[misc]\u001b[39;00m\n\u001b[1;32m   1517\u001b[0m \u001b[38;5;28;01melse\u001b[39;00m:\n\u001b[0;32m-> 1518\u001b[0m     \u001b[38;5;28;01mreturn\u001b[39;00m \u001b[38;5;28;43mself\u001b[39;49m\u001b[38;5;241;43m.\u001b[39;49m\u001b[43m_call_impl\u001b[49m\u001b[43m(\u001b[49m\u001b[38;5;241;43m*\u001b[39;49m\u001b[43margs\u001b[49m\u001b[43m,\u001b[49m\u001b[43m \u001b[49m\u001b[38;5;241;43m*\u001b[39;49m\u001b[38;5;241;43m*\u001b[39;49m\u001b[43mkwargs\u001b[49m\u001b[43m)\u001b[49m\n",
      "File \u001b[0;32m/srv/hays-lab/flash5/sanisetty3/miniconda3/envs/tgm3d/lib/python3.9/site-packages/torch/nn/modules/module.py:1527\u001b[0m, in \u001b[0;36mModule._call_impl\u001b[0;34m(self, *args, **kwargs)\u001b[0m\n\u001b[1;32m   1522\u001b[0m \u001b[38;5;66;03m# If we don't have any hooks, we want to skip the rest of the logic in\u001b[39;00m\n\u001b[1;32m   1523\u001b[0m \u001b[38;5;66;03m# this function, and just call forward.\u001b[39;00m\n\u001b[1;32m   1524\u001b[0m \u001b[38;5;28;01mif\u001b[39;00m \u001b[38;5;129;01mnot\u001b[39;00m (\u001b[38;5;28mself\u001b[39m\u001b[38;5;241m.\u001b[39m_backward_hooks \u001b[38;5;129;01mor\u001b[39;00m \u001b[38;5;28mself\u001b[39m\u001b[38;5;241m.\u001b[39m_backward_pre_hooks \u001b[38;5;129;01mor\u001b[39;00m \u001b[38;5;28mself\u001b[39m\u001b[38;5;241m.\u001b[39m_forward_hooks \u001b[38;5;129;01mor\u001b[39;00m \u001b[38;5;28mself\u001b[39m\u001b[38;5;241m.\u001b[39m_forward_pre_hooks\n\u001b[1;32m   1525\u001b[0m         \u001b[38;5;129;01mor\u001b[39;00m _global_backward_pre_hooks \u001b[38;5;129;01mor\u001b[39;00m _global_backward_hooks\n\u001b[1;32m   1526\u001b[0m         \u001b[38;5;129;01mor\u001b[39;00m _global_forward_hooks \u001b[38;5;129;01mor\u001b[39;00m _global_forward_pre_hooks):\n\u001b[0;32m-> 1527\u001b[0m     \u001b[38;5;28;01mreturn\u001b[39;00m \u001b[43mforward_call\u001b[49m\u001b[43m(\u001b[49m\u001b[38;5;241;43m*\u001b[39;49m\u001b[43margs\u001b[49m\u001b[43m,\u001b[49m\u001b[43m \u001b[49m\u001b[38;5;241;43m*\u001b[39;49m\u001b[38;5;241;43m*\u001b[39;49m\u001b[43mkwargs\u001b[49m\u001b[43m)\u001b[49m\n\u001b[1;32m   1529\u001b[0m \u001b[38;5;28;01mtry\u001b[39;00m:\n\u001b[1;32m   1530\u001b[0m     result \u001b[38;5;241m=\u001b[39m \u001b[38;5;28;01mNone\u001b[39;00m\n",
      "File \u001b[0;32m/srv/hays-lab/flash5/sanisetty3/miniconda3/envs/tgm3d/lib/python3.9/site-packages/transformers/models/encodec/modeling_encodec.py:157\u001b[0m, in \u001b[0;36mEncodecConv1d.forward\u001b[0;34m(self, hidden_states)\u001b[0m\n\u001b[1;32m    153\u001b[0m extra_padding \u001b[38;5;241m=\u001b[39m \u001b[38;5;28mself\u001b[39m\u001b[38;5;241m.\u001b[39m_get_extra_padding_for_conv1d(hidden_states, kernel_size, stride, padding_total)\n\u001b[1;32m    155\u001b[0m \u001b[38;5;28;01mif\u001b[39;00m \u001b[38;5;28mself\u001b[39m\u001b[38;5;241m.\u001b[39mcausal:\n\u001b[1;32m    156\u001b[0m     \u001b[38;5;66;03m# Left padding for causal\u001b[39;00m\n\u001b[0;32m--> 157\u001b[0m     hidden_states \u001b[38;5;241m=\u001b[39m \u001b[38;5;28;43mself\u001b[39;49m\u001b[38;5;241;43m.\u001b[39;49m\u001b[43m_pad1d\u001b[49m\u001b[43m(\u001b[49m\u001b[43mhidden_states\u001b[49m\u001b[43m,\u001b[49m\u001b[43m \u001b[49m\u001b[43m(\u001b[49m\u001b[43mpadding_total\u001b[49m\u001b[43m,\u001b[49m\u001b[43m \u001b[49m\u001b[43mextra_padding\u001b[49m\u001b[43m)\u001b[49m\u001b[43m,\u001b[49m\u001b[43m \u001b[49m\u001b[43mmode\u001b[49m\u001b[38;5;241;43m=\u001b[39;49m\u001b[38;5;28;43mself\u001b[39;49m\u001b[38;5;241;43m.\u001b[39;49m\u001b[43mpad_mode\u001b[49m\u001b[43m)\u001b[49m\n\u001b[1;32m    158\u001b[0m \u001b[38;5;28;01melse\u001b[39;00m:\n\u001b[1;32m    159\u001b[0m     \u001b[38;5;66;03m# Asymmetric padding required for odd strides\u001b[39;00m\n\u001b[1;32m    160\u001b[0m     padding_right \u001b[38;5;241m=\u001b[39m padding_total \u001b[38;5;241m/\u001b[39m\u001b[38;5;241m/\u001b[39m \u001b[38;5;241m2\u001b[39m\n",
      "File \u001b[0;32m/srv/hays-lab/flash5/sanisetty3/miniconda3/envs/tgm3d/lib/python3.9/site-packages/transformers/models/encodec/modeling_encodec.py:143\u001b[0m, in \u001b[0;36mEncodecConv1d._pad1d\u001b[0;34m(hidden_states, paddings, mode, value)\u001b[0m\n\u001b[1;32m    141\u001b[0m     extra_pad \u001b[38;5;241m=\u001b[39m max_pad \u001b[38;5;241m-\u001b[39m length \u001b[38;5;241m+\u001b[39m \u001b[38;5;241m1\u001b[39m\n\u001b[1;32m    142\u001b[0m     hidden_states \u001b[38;5;241m=\u001b[39m nn\u001b[38;5;241m.\u001b[39mfunctional\u001b[38;5;241m.\u001b[39mpad(hidden_states, (\u001b[38;5;241m0\u001b[39m, extra_pad))\n\u001b[0;32m--> 143\u001b[0m padded \u001b[38;5;241m=\u001b[39m \u001b[43mnn\u001b[49m\u001b[38;5;241;43m.\u001b[39;49m\u001b[43mfunctional\u001b[49m\u001b[38;5;241;43m.\u001b[39;49m\u001b[43mpad\u001b[49m\u001b[43m(\u001b[49m\u001b[43mhidden_states\u001b[49m\u001b[43m,\u001b[49m\u001b[43m \u001b[49m\u001b[43mpaddings\u001b[49m\u001b[43m,\u001b[49m\u001b[43m \u001b[49m\u001b[43mmode\u001b[49m\u001b[43m,\u001b[49m\u001b[43m \u001b[49m\u001b[43mvalue\u001b[49m\u001b[43m)\u001b[49m\n\u001b[1;32m    144\u001b[0m end \u001b[38;5;241m=\u001b[39m padded\u001b[38;5;241m.\u001b[39mshape[\u001b[38;5;241m-\u001b[39m\u001b[38;5;241m1\u001b[39m] \u001b[38;5;241m-\u001b[39m extra_pad\n\u001b[1;32m    145\u001b[0m \u001b[38;5;28;01mreturn\u001b[39;00m padded[\u001b[38;5;241m.\u001b[39m\u001b[38;5;241m.\u001b[39m\u001b[38;5;241m.\u001b[39m, :end]\n",
      "\u001b[0;31mOutOfMemoryError\u001b[0m: CUDA out of memory. Tried to allocate 256.00 MiB. GPU 0 has a total capacty of 10.75 GiB of which 221.19 MiB is free. Including non-PyTorch memory, this process has 10.53 GiB memory in use. Of the allocated memory 9.17 GiB is allocated by PyTorch, and 311.13 MiB is reserved by PyTorch but unallocated. If reserved but unallocated memory is large try setting max_split_size_mb to avoid fragmentation.  See documentation for Memory Management and PYTORCH_CUDA_ALLOC_CONF"
     ]
    }
   ],
   "source": [
    "encoder_outputs = model.encode(inputs[\"input_values\"].to(device), inputs[\"padding_mask\"].to(device) , bandwidth = 6.0)"
   ]
  },
  {
   "cell_type": "code",
   "execution_count": null,
   "id": "c3f4e326-df79-4124-abb6-22bec51e6317",
   "metadata": {},
   "outputs": [],
   "source": [
    "encoder_outputs[\"audio_codes\"].shape"
   ]
  },
  {
   "cell_type": "code",
   "execution_count": 144,
   "id": "ea379dd6-dcc5-498b-bf43-9ebac82284b9",
   "metadata": {},
   "outputs": [],
   "source": [
    "audio_codes = model(inputs[\"input_values\"].to(device), inputs[\"padding_mask\"].to(device)).audio_codes"
   ]
  },
  {
   "cell_type": "code",
   "execution_count": null,
   "id": "c542aac1-388a-4bc5-b230-9b31d54ef418",
   "metadata": {},
   "outputs": [],
   "source": []
  },
  {
   "cell_type": "code",
   "execution_count": null,
   "id": "6666b1c0-39f8-4eb5-b9ec-b557b0153817",
   "metadata": {},
   "outputs": [],
   "source": []
  }
 ],
 "metadata": {
  "kernelspec": {
   "display_name": "Python 3 (ipykernel)",
   "language": "python",
   "name": "python3"
  },
  "language_info": {
   "codemirror_mode": {
    "name": "ipython",
    "version": 3
   },
   "file_extension": ".py",
   "mimetype": "text/x-python",
   "name": "python",
   "nbconvert_exporter": "python",
   "pygments_lexer": "ipython3",
   "version": "3.9.18"
  }
 },
 "nbformat": 4,
 "nbformat_minor": 5
}
